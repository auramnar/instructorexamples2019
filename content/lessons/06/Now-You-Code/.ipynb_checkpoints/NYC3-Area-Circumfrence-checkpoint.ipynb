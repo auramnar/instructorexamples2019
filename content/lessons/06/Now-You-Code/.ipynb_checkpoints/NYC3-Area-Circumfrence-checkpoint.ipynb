{
 "cells": [
  {
   "cell_type": "markdown",
   "metadata": {},
   "source": [
    "# Now You Code 3: Area and Circumfrence\n",
    "\n",
    "In this assignment you are tasks with writing a program which inputs the radius of a circle, and outputs the circumfrence and area of that circle. Feel free to lookup the formulas online. \n",
    "\n",
    "We will use the **Write - Refactor - Test - Rewrite** approach to complete the final solution which uses functions.\n",
    "\n",
    "**NOTE** `import math` then use `math.PI` to get the value of Pi https://en.wikipedia.org/wiki/Pi"
   ]
  },
  {
   "cell_type": "markdown",
   "metadata": {},
   "source": [
    "## Step 1: Write\n",
    "\n",
    "Here's the algorihm of this program. Write the solution in Python.\n",
    "\n",
    "```\n",
    "    input radius as a float\n",
    "    calculate circle area\n",
    "    calcuate circle circumfrence\n",
    "    print radus, area, circumfrence\n",
    "```\n",
    "\n",
    "Example run:\n",
    "\n",
    "```\n",
    "Enter Radius: 1\n",
    "A circle with radius 1.000000 has area 3.141593 and circumfrence 6.283185\n",
    "```\n"
   ]
  },
  {
   "cell_type": "code",
   "execution_count": 1,
   "metadata": {},
   "outputs": [
    {
     "name": "stdout",
     "output_type": "stream",
     "text": [
      "Enter Radius: 2\n",
      "A circle with radius 2.000000 has area 12.566371 and circumfrence 12.566371\n"
     ]
    }
   ],
   "source": [
    "import math\n",
    "## TODO: Write the solution here Step 1\n",
    "\n",
    "radius = float(input(\"Enter Radius: \"))\n",
    "area = math.pi * radius **2 \n",
    "circ = 2* math.pi * radius\n",
    "print(\"A circle with radius %f has area %f and circumfrence %f\" % (radius, area, circ))"
   ]
  },
  {
   "cell_type": "markdown",
   "metadata": {},
   "source": [
    "## Step 2: Refactor\n",
    "\n",
    "Next we need to refactor the `area` and `circumfrence` logic into functions. \n",
    "\n",
    "- `CircleArea()` has one input a `radius` and returns the `area` as output.\n",
    "- `CircleCircumfrence()` has one input a `radius` and returns the `circumfrence` as output. \n"
   ]
  },
  {
   "cell_type": "code",
   "execution_count": 2,
   "metadata": {},
   "outputs": [],
   "source": [
    "## Step 2: Refactor into two functions def CircleArea... and def CircleCircumfrence\n",
    "\n",
    "def CircleArea(radius):\n",
    "    area = math.pi * radius ** 2\n",
    "    return area\n",
    "\n",
    "def CircleCircumfrence(radius):\n",
    "    circ = 2 * math.pi * radius\n",
    "    return circ"
   ]
  },
  {
   "cell_type": "markdown",
   "metadata": {},
   "source": [
    "## Step 3: Test \n",
    "\n",
    "Time to test. Write two tests, once for each function\n",
    "```\n",
    "WHEN radius=1 We EXPECT CircleArea(radius) to return 3.141593 \n",
    "WHEN radius=1 We EXPECT CircleCircumfrence(radius) to return 6.283185\n",
    "```\n",
    "\n",
    "Make sure you call the function to get the actual, just like in the coding lab. \n",
    "\n",
    "NOTE: If its accurate to 4 decimal places, that's sufficient. The test values might be different because of how the \"%f\" format code works."
   ]
  },
  {
   "cell_type": "code",
   "execution_count": 3,
   "metadata": {},
   "outputs": [
    {
     "name": "stdout",
     "output_type": "stream",
     "text": [
      "WHEN radius=1 We EXPECT CircleArea(radius) to return 3.141593  ACTUAL 3.141593\n",
      "WHEN radius=1 We EXPECT CircleCircumfrence(radius) to return 6.283185  ACTUAL 6.283185 \n"
     ]
    }
   ],
   "source": [
    "# Step 3: Write tests.\n",
    "\n",
    "print(\"WHEN radius=1 We EXPECT CircleArea(radius) to return 3.141593 \",\"ACTUAL %f\" % CircleArea(1))\n",
    "print(\"WHEN radius=1 We EXPECT CircleCircumfrence(radius) to return 6.283185 \",\"ACTUAL %f \" % CircleCircumfrence(1))"
   ]
  },
  {
   "cell_type": "markdown",
   "metadata": {},
   "source": [
    "## Step 4: rewrite the program to use the function\n",
    "\n",
    "Finally re-write the original program, but call the functions. \n"
   ]
  },
  {
   "cell_type": "code",
   "execution_count": 4,
   "metadata": {},
   "outputs": [
    {
     "name": "stdout",
     "output_type": "stream",
     "text": [
      "Enter Radius: 2\n",
      "A circle with radius 2.000000 has area 12.566371 and circumfrence 12.566371\n"
     ]
    }
   ],
   "source": [
    "## Step 4: Write program here from the algorithm above\n",
    "\n",
    "radius = float(input(\"Enter Radius: \"))\n",
    "area = CircleArea(radius)\n",
    "circ = CircleCircumfrence(radius)\n",
    "print(\"A circle with radius %f has area %f and circumfrence %f\" % (radius, area, circ))"
   ]
  },
  {
   "cell_type": "markdown",
   "metadata": {},
   "source": [
    "## Step 6: Questions\n",
    "\n",
    "1. Provide 3 advantages for programming a user function in your code like `CircleArea`  or `CircleCircumfrence`\n",
    "2. If we want to guarantee our `CircleCircumfrence` function is 100% accurate, what is the minimum number of test cases must we provide in step 3?\n"
   ]
  },
  {
   "cell_type": "markdown",
   "metadata": {},
   "source": [
    "## Reminder of Evaluation Criteria\n",
    "\n",
    "1. What the problem attempted (analysis, code, and answered questions) ?\n",
    "2. What the problem analysis thought out? (does the program match the plan?)\n",
    "3. Does the code execute without syntax error?\n",
    "4. Does the code solve the intended problem?\n",
    "5. Is the code well written? (easy to understand, modular, and self-documenting, handles errors)\n"
   ]
  },
  {
   "cell_type": "code",
   "execution_count": null,
   "metadata": {
    "collapsed": true
   },
   "outputs": [],
   "source": []
  }
 ],
 "metadata": {
  "anaconda-cloud": {},
  "kernelspec": {
   "display_name": "Python 3",
   "language": "python",
   "name": "python3"
  },
  "language_info": {
   "codemirror_mode": {
    "name": "ipython",
    "version": 3
   },
   "file_extension": ".py",
   "mimetype": "text/x-python",
   "name": "python",
   "nbconvert_exporter": "python",
   "pygments_lexer": "ipython3",
   "version": "3.6.5"
  }
 },
 "nbformat": 4,
 "nbformat_minor": 1
}
