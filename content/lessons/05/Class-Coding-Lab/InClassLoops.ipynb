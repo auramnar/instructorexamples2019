{
 "cells": [
  {
   "cell_type": "code",
   "execution_count": null,
   "metadata": {
    "collapsed": false
   },
   "outputs": [],
   "source": [
    "n = 5\n",
    "while n > 0:\n",
    "    print(n)\n",
    "    n = n - 1\n",
    "print('Blastoff!')"
   ]
  },
  {
   "cell_type": "code",
   "execution_count": null,
   "metadata": {
    "collapsed": false
   },
   "outputs": [],
   "source": [
    "friends = ['Joseph', 'Glenn', 'Sally']\n",
    "for friend in friends:\n",
    "    print('Happy July 4th:', friend)\n",
    "print('Done!')"
   ]
  },
  {
   "cell_type": "code",
   "execution_count": null,
   "metadata": {
    "collapsed": false
   },
   "outputs": [],
   "source": [
    "count = 0\n",
    "for itervar in [3, 41, 12, 9, 74, 15]:\n",
    "    count = count + 1\n",
    "print('Count: ', count)"
   ]
  },
  {
   "cell_type": "code",
   "execution_count": null,
   "metadata": {
    "collapsed": false
   },
   "outputs": [],
   "source": [
    "total = 0\n",
    "for itervar in [3, 41, 12, 9, 74, 15]:\n",
    "    total = total + itervar\n",
    "print('Total: ', total)"
   ]
  },
  {
   "cell_type": "code",
   "execution_count": null,
   "metadata": {
    "collapsed": false
   },
   "outputs": [],
   "source": [
    "largest = None\n",
    "print('Before:', largest)\n",
    "for itervar in [3, 41, 12, 9, 74, 15]:\n",
    "    if largest is None or itervar > largest :\n",
    "        largest = itervar\n",
    "    print('Loop:', itervar, largest)\n",
    "print('Largest:', largest)"
   ]
  },
  {
   "cell_type": "code",
   "execution_count": null,
   "metadata": {
    "collapsed": false
   },
   "outputs": [],
   "source": [
    "nose = '0'  #  nose\n",
    "user_value = '-'\n",
    "\n",
    "while user_value != 'q':\n",
    "    print(' %s %s ' % (user_value, user_value))  # Print eyes\n",
    "    print('  %s  ' % nose)  # Print nose\n",
    "    print(user_value*5)  # Print mouth\n",
    "    print('\\n')\n",
    "\n",
    "    # Get new character for eyes and mouth\n",
    "    user_input = input(\"Enter a character ('q' for quit): \")\n",
    "    user_value = user_input[0]\n",
    "\n",
    "print('Goodbye.\\n')"
   ]
  },
  {
   "cell_type": "code",
   "execution_count": null,
   "metadata": {
    "collapsed": true
   },
   "outputs": [],
   "source": [
    "import random"
   ]
  },
  {
   "cell_type": "code",
   "execution_count": null,
   "metadata": {
    "collapsed": false
   },
   "outputs": [],
   "source": [
    "'''\n",
    "Program that has a conversation with the user.\n",
    "Uses elif branching and a random number to mix up the program's responses.\n",
    "'''\n",
    "import random  \n",
    "\n",
    "print('Tell me something about yourself.')\n",
    "print(\"You can type 'Goodbye' at anytime to quit.\\n\")\n",
    "\n",
    "user_text = input()\n",
    "\n",
    "while user_text != 'Goodbye':\n",
    "    random_num = random.randint(0, 2)  # Gives a random number between 0 and 2\n",
    "    if random_num == 0:\n",
    "        print('\\nPlease explain further.\\n')\n",
    "    elif random_num == 1:\n",
    "        print(\"\\nWhy do you say: '%s'?\\n\" % user_text)\n",
    "    elif random_num == 2:\n",
    "        print('\\nWhat else can you share?\\n')\n",
    "    else:\n",
    "        print('\\nUh-oh, something went wrong. Try again.\\n')\n",
    "\n",
    "    user_text = input()\n",
    "\n",
    "print('It was nice talking with you. Goodbye.\\n')\n",
    "\n",
    "user_text = input()\n",
    "\n",
    "print('It was nice talking with you. Goodbye.\\n')"
   ]
  },
  {
   "cell_type": "markdown",
   "metadata": {
    "collapsed": true
   },
   "source": [
    " Counting using the range() function - allows counting in for loops - arithmetic progression\n",
    " \n",
    " range(5) \n",
    " \n",
    " range(10, 13)\n",
    " \n",
    " \n",
    "    \n",
    "    "
   ]
  },
  {
   "cell_type": "code",
   "execution_count": null,
   "metadata": {
    "collapsed": true
   },
   "outputs": [],
   "source": [
    "initial_savings = 10000\n",
    "interest_rate = 0.05\n",
    "\n",
    "years = int(input('Enter years:\\n'))\n",
    "\n",
    "savings = initial_savings\n",
    "for i in range(years):\n",
    "    print(' Savings in year %d: $%f' % (i, savings))\n",
    "    savings = savings + (savings*interest_rate)\n",
    "\n",
    "print('\\n')"
   ]
  }
 ],
 "metadata": {
  "kernelspec": {
   "display_name": "Python 3",
   "language": "python",
   "name": "python3"
  },
  "language_info": {
   "codemirror_mode": {
    "name": "ipython",
    "version": 3
   },
   "file_extension": ".py",
   "mimetype": "text/x-python",
   "name": "python",
   "nbconvert_exporter": "python",
   "pygments_lexer": "ipython3",
   "version": "3.6.0"
  }
 },
 "nbformat": 4,
 "nbformat_minor": 2
}
