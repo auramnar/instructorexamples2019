{
 "cells": [
  {
   "cell_type": "code",
   "execution_count": null,
   "metadata": {
    "collapsed": false
   },
   "outputs": [],
   "source": [
    "players = {\n",
    "    'Lionel Messi': 10,\n",
    "    'Christiano Ronaldo': 7\n",
    "}\n",
    "\n",
    "print(players)"
   ]
  },
  {
   "cell_type": "code",
   "execution_count": null,
   "metadata": {
    "collapsed": false
   },
   "outputs": [],
   "source": [
    "caffeine_content_mg = {\n",
    "    'Mr. Goodbar chocolate': 122,\n",
    "    'Red Bull': 33,\n",
    "    'Monster Hitman Sniper energy drink': 270,\n",
    "    'Lipton Brisk iced tea - lemon flavor': 2,\n",
    "    'dark chocolate coated coffee beans': 869,\n",
    "    'Regular drip or percolated coffee': 60,\n",
    "    'Buzz Bites Chocolate Chews': 1639\n",
    "}\n",
    "\n",
    "print(caffeine_content_mg)"
   ]
  },
  {
   "cell_type": "code",
   "execution_count": null,
   "metadata": {
    "collapsed": false
   },
   "outputs": [],
   "source": [
    "prices = {'apples': 1.99, 'oranges': 1.49}\n",
    "\n",
    "print('The price of apples is', prices['apples'])\n",
    "print('\\nThe price of lemons is', prices['lemons'])"
   ]
  },
  {
   "cell_type": "code",
   "execution_count": null,
   "metadata": {
    "collapsed": false
   },
   "outputs": [],
   "source": [
    "#  Adding and editing dictionary entries.\n",
    "\n",
    "prices = {}  # Create empty dictionary\n",
    "prices['banana'] = 1.49  # Add new entry\n",
    "print(prices)\n",
    "\n",
    "prices['banana'] = 1.69  # Modify entry\n",
    "print(prices)\n",
    "\n",
    "del prices['banana']  # Remove entry\n",
    "print(prices)"
   ]
  },
  {
   "cell_type": "code",
   "execution_count": null,
   "metadata": {
    "collapsed": true
   },
   "outputs": [],
   "source": [
    "# Write statement to add the key Tesla with value USA to car_makers. Modify the car maker of Fiat to Italy. \n",
    "\n",
    "car_makers = {'Acura': 'Japan', 'Fiat': 'Egypt'}\n",
    "\n",
    "# Add the key Tesla with value USA to car_makers\n",
    "# Modify the car maker of Fiat to Italy\n",
    "\n",
    "\n",
    "print('Acura made in', car_makers['Acura'])\n",
    "print('Fiat made in', car_makers['Fiat'])\n",
    "print('Tesla made in', car_makers['Tesla'])\n"
   ]
  }
 ],
 "metadata": {
  "kernelspec": {
   "display_name": "Python 3",
   "language": "python",
   "name": "python3"
  },
  "language_info": {
   "codemirror_mode": {
    "name": "ipython",
    "version": 3
   },
   "file_extension": ".py",
   "mimetype": "text/x-python",
   "name": "python",
   "nbconvert_exporter": "python",
   "pygments_lexer": "ipython3",
   "version": "3.6.0"
  }
 },
 "nbformat": 4,
 "nbformat_minor": 2
}
