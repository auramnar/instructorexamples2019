{
 "cells": [
  {
   "cell_type": "markdown",
   "metadata": {},
   "source": [
    "# Now You Code 3: Sentiment v2.0\n",
    "\n",
    "Let's write a better version of the basic sentiment analyzer in Python. Instead of using a string of words, this example will read a list of words positive and negative words from a file.\n",
    "\n",
    "In fact, we've included two files for you so you don't have to some up with the positive and negative words! Just load the files and go! Of course if you want more positive and negative words you can always edit the files.\n",
    "\n",
    "- Positive words are in `NYC3-pos.txt`\n",
    "- Negative words are in `NYC3-neg.txt`\n",
    "\n",
    "You will have to write a function called `LoadWords(filename)` to read the words from the file and load them into a string.\n",
    "\n",
    "## Step 1: Problem Analysis for function\n",
    "\n",
    "Input (function arguments): `filename` to read.\n",
    "Output (function returns): a `text` string of words as loaded from the file.\n",
    "\n",
    "Algorithm:\n",
    "\n",
    "```\n",
    "open the filename for reading\n",
    "    read the entire file all at once, into text\n",
    "    return the text\n",
    "```\n"
   ]
  },
  {
   "cell_type": "code",
   "execution_count": 2,
   "metadata": {
    "collapsed": true
   },
   "outputs": [],
   "source": [
    "## Step 2: Write the LoadWords(filename) function\n",
    "\n",
    "def LoadWords(filename):\n",
    "    with open(filename,'r') as f:\n",
    "        text = f.read().lower()\n",
    "        return text    "
   ]
  },
  {
   "cell_type": "code",
   "execution_count": 3,
   "metadata": {
    "collapsed": false
   },
   "outputs": [
    {
     "name": "stdout",
     "output_type": "stream",
     "text": [
      "POSITIVE WORD LIST: good love like great wonderful fast helpful smart friendly happy joy\n",
      "NEGATIVE WORD LIST bad hate dislike horrible stinks awful slow clueless useless dumb sad\n"
     ]
    }
   ],
   "source": [
    "## Quick test of your LoadWords() function\n",
    "pos = LoadWords(\"NYC3-pos.txt\")\n",
    "neg = LoadWords(\"NYC3-neg.txt\")\n",
    "print(\"POSITIVE WORD LIST:\",pos)\n",
    "print(\"NEGATIVE WORD LIST\", neg)"
   ]
  },
  {
   "cell_type": "markdown",
   "metadata": {},
   "source": [
    "## Step 3: The Final Program\n",
    "  \n",
    "Now write a program which allows you to enter text and then analyzes the sentiment of the text by printing a score. The program should keep analyzing text input until you enter \"quit\".\n",
    "\n",
    "Sample Run\n",
    "\n",
    "```\n",
    "Sentiment Analyzer 1.0\n",
    "Type 'quit' to exit.\n",
    "Enter Text: i love a good book from amazon\n",
    "2 positive.\n",
    "Enter Text: i hate amazon their service makes me angry\n",
    "-2 negative.\n",
    "Enter Text: i love to hate amazon\n",
    "0 neutral.\n",
    "Enter Text: quit\n",
    "```\n",
    "\n",
    "### 3.a Problem Analysis\n",
    "\n",
    "Input:\n",
    "\n",
    "Output:\n",
    "\n",
    "Algorithm:\n",
    "\n",
    "\n",
    "\n"
   ]
  },
  {
   "cell_type": "code",
   "execution_count": null,
   "metadata": {
    "collapsed": false
   },
   "outputs": [
    {
     "name": "stdout",
     "output_type": "stream",
     "text": [
      "Sentiment Analyzer 2.0\n",
      "Type 'quit' to exit.\n",
      "Enter Text: I am happy\n",
      "1 positive.\n"
     ]
    }
   ],
   "source": [
    "## 3.b Write solution here, use Load Words to help you read in the pos and neg words.\n",
    "\n",
    "import string\n",
    "\n",
    "def StripPunctuation(text):\n",
    "    for ch in text:\n",
    "        if ch in string.punctuation:\n",
    "            text = text.replace(ch,'')\n",
    "    return text \n",
    "\n",
    "def ScoreSentiment(pos, neg, text):\n",
    "    score = 0\n",
    "    words = text.split()\n",
    "    for word in words:\n",
    "        if word in pos.split():\n",
    "            score +=1\n",
    "        elif word in neg.split():\n",
    "            score -=1\n",
    "    return score\n",
    "\n",
    "\n",
    "pos = LoadWords(\"NYC3-pos.txt\")\n",
    "neg = LoadWords(\"NYC3-neg.txt\")\n",
    "print(\"Sentiment Analyzer 2.0\")\n",
    "print(\"Type 'quit' to exit.\")\n",
    "while True:\n",
    "    text = StripPunctuation(input(\"Enter Text: \").lower())\n",
    "    if text.lower() == 'quit':\n",
    "        break\n",
    "    score = ScoreSentiment(pos,neg,text)\n",
    "    if score > 0:\n",
    "        print(\"%d positive.\" % score)\n",
    "    elif score < 0:\n",
    "        print(\"%d negative.\" % score)\n",
    "    else:\n",
    "        print(\"%d neutral.\" % score)"
   ]
  },
  {
   "cell_type": "markdown",
   "metadata": {},
   "source": [
    "## Step 4: Questions\n",
    "\n",
    "1. This is a better solution than sentiment 1.0. Why?\n",
    "2. Execute the program and enter the following input: `i love! a GOOD book` What is the score and why? how can this issue be fixed?\n",
    "3. Re-write your final solution to address the issues discovered in step 2."
   ]
  },
  {
   "cell_type": "markdown",
   "metadata": {},
   "source": [
    "## Reminder of Evaluation Criteria\n",
    "\n",
    "1. What the problem attempted (analysis, code, and answered questions) ?\n",
    "2. What the problem analysis thought out? (does the program match the plan?)\n",
    "3. Does the code execute without syntax error?\n",
    "4. Does the code solve the intended problem?\n",
    "5. Is the code well written? (easy to understand, modular, and self-documenting, handles errors)\n"
   ]
  },
  {
   "cell_type": "code",
   "execution_count": null,
   "metadata": {
    "collapsed": true
   },
   "outputs": [],
   "source": []
  }
 ],
 "metadata": {
  "anaconda-cloud": {},
  "kernelspec": {
   "display_name": "Python 3",
   "language": "python",
   "name": "python3"
  },
  "language_info": {
   "codemirror_mode": {
    "name": "ipython",
    "version": 3
   },
   "file_extension": ".py",
   "mimetype": "text/x-python",
   "name": "python",
   "nbconvert_exporter": "python",
   "pygments_lexer": "ipython3",
   "version": "3.6.0"
  }
 },
 "nbformat": 4,
 "nbformat_minor": 1
}
