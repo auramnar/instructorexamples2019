{
 "cells": [
  {
   "cell_type": "markdown",
   "metadata": {},
   "source": [
    "VARIABLES AND TYPES"
   ]
  },
  {
   "cell_type": "code",
   "execution_count": null,
   "metadata": {
    "collapsed": false
   },
   "outputs": [],
   "source": [
    "print(1,000,000)"
   ]
  },
  {
   "cell_type": "code",
   "execution_count": null,
   "metadata": {
    "collapsed": false
   },
   "outputs": [],
   "source": [
    "#Write a statement that assigns total_coins with the sum of nickel_count and dime_count\n",
    "\n",
    "nickel_count = 100\n",
    "dime_count = 200\n",
    "total_coins = 0\n",
    "\n",
    "total_coins = nickel_count + dime_count\n",
    "print (total_coins)\n"
   ]
  },
  {
   "cell_type": "markdown",
   "metadata": {},
   "source": [
    "# Valid  Naming Convention in Python \n",
    "\n",
    "## numCars\n",
    "## _num_cars\n",
    "## 3rd_place\n",
    "## num cars\n",
    "## third_place_\n",
    "## third_place!\n",
    "## output\n",
    "## print_copy"
   ]
  },
  {
   "cell_type": "markdown",
   "metadata": {},
   "source": [
    "# Meaningful variable names\n",
    "\n",
    "## The number of students attending UCLA\n",
    "\n",
    "## The size of a screen measured as its diagonal length\n",
    "\n",
    "## Number of jelly beans in a jar, as guessed by a user"
   ]
  },
  {
   "cell_type": "markdown",
   "metadata": {},
   "source": [
    "# Choosing the right varible type\n",
    "\n",
    "## The number of cars in a parking lot.\n",
    "## The current temperature in Celsius.\n",
    "## A person's height in centimeters.\n",
    "## The average number of kids per household.\n"
   ]
  },
  {
   "cell_type": "markdown",
   "metadata": {},
   "source": [
    "# Arithmetic operators - Remember PEMDAS\n",
    "\n",
    "\n",
    "## Division operator / performs division and returns a floating-point number - 20/10 = 2.0\n",
    "## Floored division operator // can be used to round down the result - 20//10 = 2\n",
    "## The modulo operator evaluates to the remainder of the division of the two integer operands -  23 % 10 = 3 "
   ]
  },
  {
   "cell_type": "code",
   "execution_count": null,
   "metadata": {
    "collapsed": false
   },
   "outputs": [],
   "source": [
    "num_items = 5\n",
    "total_count = 1 + (2*num_items)*4\n",
    "print (total_count)"
   ]
  },
  {
   "cell_type": "code",
   "execution_count": null,
   "metadata": {
    "collapsed": false
   },
   "outputs": [],
   "source": [
    "# Conversion Types \n",
    "\n",
    "int(1.55)\n",
    "float(\"7.99\")\n",
    "str(99)"
   ]
  },
  {
   "cell_type": "code",
   "execution_count": null,
   "metadata": {
    "collapsed": true
   },
   "outputs": [],
   "source": [
    "#Assign to avg_owls the average owls per zoo. Print avg_owls as an integer. \n",
    "\n",
    "num_owls_zooA = 1\n",
    "num_owls_zooB = 2\n",
    "num_owls_zooC = 4\n",
    "num_zoos = 3\n",
    "avg_owls = 0.0\n",
    "\n",
    "#Complete ??\n"
   ]
  },
  {
   "cell_type": "code",
   "execution_count": 3,
   "metadata": {
    "collapsed": false
   },
   "outputs": [
    {
     "name": "stdout",
     "output_type": "stream",
     "text": [
      "Number of owls: 34\n"
     ]
    }
   ],
   "source": [
    "# Assign total_owls with the sum of num_owls_A and num_owls_B.\n",
    "\n",
    "num_owls_A = '3'\n",
    "num_owls_B = '4'\n",
    "total_owls = 0\n",
    "total_owls = (num_owls_A)+(num_owls_B)\n",
    "#Complete ??\n",
    "print('Number of owls:', total_owls)\n"
   ]
  },
  {
   "cell_type": "code",
   "execution_count": null,
   "metadata": {
    "collapsed": true
   },
   "outputs": [],
   "source": []
  }
 ],
 "metadata": {
  "kernelspec": {
   "display_name": "Python 3",
   "language": "python",
   "name": "python3"
  },
  "language_info": {
   "codemirror_mode": {
    "name": "ipython",
    "version": 3
   },
   "file_extension": ".py",
   "mimetype": "text/x-python",
   "name": "python",
   "nbconvert_exporter": "python",
   "pygments_lexer": "ipython3",
   "version": "3.6.0"
  }
 },
 "nbformat": 4,
 "nbformat_minor": 2
}
