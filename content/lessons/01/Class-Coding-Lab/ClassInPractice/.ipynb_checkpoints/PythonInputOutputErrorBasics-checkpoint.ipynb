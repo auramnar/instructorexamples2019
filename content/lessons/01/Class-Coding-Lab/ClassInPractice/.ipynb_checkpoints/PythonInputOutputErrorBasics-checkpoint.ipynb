{
 "cells": [
  {
   "cell_type": "markdown",
   "metadata": {},
   "source": [
    "INPUT OUTPUT AND ERRORS BASICS"
   ]
  },
  {
   "cell_type": "code",
   "execution_count": null,
   "metadata": {
    "collapsed": false
   },
   "outputs": [],
   "source": [
    "# Welcome to the Python 500 race! Click the run button to begin.\n",
    "\n",
    "# Configurable values.\n",
    "# Try changing car speeds, accelerations, and the simulation speed.\n",
    "car1_top_speed = 60\n",
    "car2_top_speed = 50\n",
    "\n",
    "car1_acceleration = 15\n",
    "car2_acceleration = 6\n",
    "\n",
    "car1 = ['  ______\\n',\n",
    "       ' |__1_|_\\\\\\n',\n",
    "       '  O----O\\n']\n",
    "\n",
    "\n",
    "car2 = ['    ___\\n',\n",
    "       '   /__2_\\\\__\\n',\n",
    "       '    O----O\\n']\n",
    "\n",
    "# Begin program below.\n",
    "\n",
    "# Track the location and speed of each car\n",
    "car1_location = 0\n",
    "car2_location = 0\n",
    "car1_speed = 0\n",
    "car2_speed = 0\n",
    "\n",
    "track_length = 1000  # Length of the race\n",
    "cols = 90  # Width of the output window\n",
    "\n",
    "def print_car(car, distance):\n",
    "    \"\"\"Print a car at a scaled distance from the left side of the screen\"\"\"\n",
    "    scale = float(distance) / float(track_length) * cols\n",
    "    for line in car:\n",
    "        print(' ' * int(scale), line, end=' ')\n",
    "\n",
    "def print_cars():\n",
    "    \"\"\"Print each of the racing cars\"\"\"\n",
    "    print_car(car1, car1_location)\n",
    "    print_car(car2, car2_location)\n",
    "\n",
    "def max_car_len():\n",
    "    return max(max([len(i) for i in  car1], [len(i) for i in car2]))\n",
    "\n",
    "def print_finish():\n",
    "    \"\"\"Print the finish line\"\"\"\n",
    "    ln = \"||--FINISH LINE--||\"\n",
    "    print(' ' * (cols + max_car_len() - len(ln)), end=' ')\n",
    "    print(ln)\n",
    "\n",
    "def advance_cars():\n",
    "    \"\"\"Calculate new positions of the cars\"\"\"\n",
    "    global car1_speed, car1_location\n",
    "    global car2_speed, car2_location\n",
    "    car1_speed += car1_acceleration\n",
    "    car1_speed = car1_top_speed if car1_speed > car1_top_speed else car1_speed\n",
    "    car1_location += car1_speed\n",
    "\n",
    "    car2_speed += car2_acceleration\n",
    "    car2_speed = car2_top_speed if car2_speed > car2_top_speed else car2_speed\n",
    "    car2_location += car2_speed\n",
    "\n",
    "def finished():\n",
    "    \"\"\"Check for a winner\"\"\"\n",
    "    if car1_location > track_length or car2_location > track_length:\n",
    "        if car1_location > car2_location:\n",
    "            win_distance = car1_location - car2_location\n",
    "            print('Car 1 wins by', win_distance, 'meters!')\n",
    "        else:\n",
    "            win_distance = car2_location - car1_location\n",
    "            print('Car 2 wins by', win_distance, 'meters!')\n",
    "        return True\n",
    "    return False\n",
    "\n",
    "done = False\n",
    "while not done:\n",
    "    \"\"\"Main loop\"\"\"\n",
    "    advance_cars()\n",
    "    done = finished()\n",
    "    \n",
    "print_cars()\n",
    "print_finish()"
   ]
  },
  {
   "cell_type": "markdown",
   "metadata": {},
   "source": [
    "BASIC OUTPUT STATEMENTS - PRINT FUNCTION"
   ]
  },
  {
   "cell_type": "code",
   "execution_count": null,
   "metadata": {
    "collapsed": false
   },
   "outputs": [],
   "source": [
    "#A statement that prints: I like Syracuse University\n",
    "print (6/3)"
   ]
  },
  {
   "cell_type": "code",
   "execution_count": null,
   "metadata": {
    "collapsed": false
   },
   "outputs": [],
   "source": [
    "# Print a statement with a variable\n",
    "num = 10\n",
    "print(num)\n"
   ]
  },
  {
   "cell_type": "code",
   "execution_count": null,
   "metadata": {
    "collapsed": false
   },
   "outputs": [],
   "source": [
    "# The number 99 is assigned to the variable books_num \n",
    "# Type a single statement that produces the following output. \"Quantity of books is 99.\" \n",
    "# %s = string, %d = interger, %f= float (to specify amount of places if float use a number i.e %.2f, %.3f)\n",
    "books_num = 99\n",
    "print(\"Quantity of books is %s.\" % (books_num))\n"
   ]
  },
  {
   "cell_type": "code",
   "execution_count": null,
   "metadata": {
    "collapsed": false
   },
   "outputs": [],
   "source": [
    "# The variable dogs_num assignment is 16\n",
    "# Type a statement that outputs. \"There are 16 dogs.\" \n",
    "# use string formatting\n",
    "dogs_num = 16\n",
    "print(\"There are %s dogs. \" % (dogs_num))"
   ]
  },
  {
   "cell_type": "code",
   "execution_count": null,
   "metadata": {
    "collapsed": false
   },
   "outputs": [],
   "source": [
    "# New line character \\n\n",
    "# Print 3 2 1 GO!! on single lines\n",
    "\n",
    "print(\"3\\n\"\"2\\n\"\"1\\n\"\"GO!!\\n\")"
   ]
  },
  {
   "cell_type": "markdown",
   "metadata": {},
   "source": [
    "BASIC INPUT STATEMENTS - INPUT FUNCTION"
   ]
  },
  {
   "cell_type": "code",
   "execution_count": null,
   "metadata": {
    "collapsed": false
   },
   "outputs": [],
   "source": [
    "print('ENTER THE NAME OF YOUR BEST FRIEND:')\n",
    "best_friend = input()\n",
    "print('My best friend is', best_friend)"
   ]
  },
  {
   "cell_type": "code",
   "execution_count": null,
   "metadata": {
    "collapsed": true
   },
   "outputs": [],
   "source": []
  },
  {
   "cell_type": "code",
   "execution_count": null,
   "metadata": {
    "collapsed": false
   },
   "outputs": [],
   "source": [
    "print('Enter wage:')\n",
    "wage = (input())\n",
    "\n",
    "new_wage = float(wage) + 10\n",
    "\n",
    "print(\"The new wage is $%.2f.\" %(new_wage))\n",
    "# Complete output\n",
    "\n"
   ]
  },
  {
   "cell_type": "code",
   "execution_count": null,
   "metadata": {
    "collapsed": false
   },
   "outputs": [],
   "source": [
    "#Type a statement that converts the string '15' to an integer, and assigns the result to my_var\n",
    "my_var = int(\"15\")\n",
    "print(my_var)\n",
    "type(my_var)\n"
   ]
  },
  {
   "cell_type": "code",
   "execution_count": null,
   "metadata": {
    "collapsed": true
   },
   "outputs": [],
   "source": [
    "hours = 40\n",
    "weeks = 50\n",
    "hourly_wage = int(input('Enter hourly wage: '))\n",
    "\n",
    "# Complete output statement\n"
   ]
  },
  {
   "cell_type": "code",
   "execution_count": null,
   "metadata": {
    "collapsed": false
   },
   "outputs": [],
   "source": [
    "dog_years = int(input('Enter age of dog (in years):\\n'))\n",
    "human_years = 7 * dog_years\n",
    "\n",
    "print(dog_years, 'dog years is about', human_years, 'human years.' )"
   ]
  },
  {
   "cell_type": "code",
   "execution_count": null,
   "metadata": {
    "collapsed": true
   },
   "outputs": [],
   "source": [
    "#Read two numbers from a user input. Then, print the sum of those numbers\n",
    "\n"
   ]
  },
  {
   "cell_type": "code",
   "execution_count": null,
   "metadata": {
    "collapsed": false
   },
   "outputs": [],
   "source": [
    "# ERRORS \n",
    "\n",
    "print(num_dogs)."
   ]
  },
  {
   "cell_type": "code",
   "execution_count": null,
   "metadata": {
    "collapsed": false
   },
   "outputs": [],
   "source": [
    "print(\"Hello + friend!\")"
   ]
  },
  {
   "cell_type": "code",
   "execution_count": null,
   "metadata": {
    "collapsed": false
   },
   "outputs": [],
   "source": [
    "print(Woof!)"
   ]
  },
  {
   "cell_type": "code",
   "execution_count": null,
   "metadata": {
    "collapsed": false
   },
   "outputs": [],
   "source": [
    "print(\"Woof!!')"
   ]
  },
  {
   "cell_type": "code",
   "execution_count": null,
   "metadata": {
    "collapsed": false
   },
   "outputs": [],
   "source": [
    "print(\"Dogs: \" num_dogs)\n"
   ]
  },
  {
   "cell_type": "markdown",
   "metadata": {},
   "source": [
    "# COMMON  ERRORS\n",
    "\n",
    "# TypeError\tAn operation uses incorrect types – can occur if adding an integer to a string - lyric = 99 + \" bottles on the wall\"\n",
    "\n",
    "# IndentationError - The lines of the program are not properly indented.\n",
    "\n",
    "# ValueError - An invalid value is used – can occur if giving letters to int() - int(\"Thursday\")\n",
    "\n",
    "# NameError - The program tries to use a variable that does not exist.\n",
    "\n",
    "# SyntaxError- The program contains invalid code that can not be understood. - print('Today is ' \"Monday\")\n",
    "\n",
    "# Logic Error - The program has wrong assignment - raise_percentage = 5  # Logic error gives a 500% raise instead of 5%\n"
   ]
  },
  {
   "cell_type": "code",
   "execution_count": null,
   "metadata": {
    "collapsed": false
   },
   "outputs": [],
   "source": [
    "# LOGIC ERROR\n",
    "\n",
    "num_beans = 500\n",
    "num_jars = 3\n",
    "total_beans = 0\n",
    "\n",
    "print(num_beans, 'beans in')\n",
    "print(num_jars, 'jars yields')\n",
    "total_beans = num_beans * num_jars\n",
    "print('total_beans', 'total')"
   ]
  },
  {
   "cell_type": "code",
   "execution_count": 55,
   "metadata": {
    "collapsed": false
   },
   "outputs": [
    {
     "name": "stdout",
     "output_type": "stream",
     "text": [
      "Predictions are hard.\n",
      "Especially about the future.\n",
      "user_num is: 5\n"
     ]
    }
   ],
   "source": [
    "print(\"Predictions are hard.\")\n",
    "print(\"Especially about the future.\")\n",
    "user_num = 5\n",
    "print('user_num is: %d' % (user_num))"
   ]
  },
  {
   "cell_type": "code",
   "execution_count": null,
   "metadata": {
    "collapsed": false
   },
   "outputs": [],
   "source": []
  },
  {
   "cell_type": "code",
   "execution_count": 4,
   "metadata": {
    "collapsed": false
   },
   "outputs": [
    {
     "name": "stdout",
     "output_type": "stream",
     "text": [
      "Enter a value of X: 45\n",
      "30\n"
     ]
    }
   ],
   "source": [
    "x = input(\"Enter a value of X: \")\n",
    "y = 10\n",
    "z = 20\n",
    "x = y + z\n",
    "print (x)"
   ]
  },
  {
   "cell_type": "code",
   "execution_count": 5,
   "metadata": {
    "collapsed": false
   },
   "outputs": [
    {
     "name": "stdout",
     "output_type": "stream",
     "text": [
      "95\n"
     ]
    }
   ],
   "source": [
    "a = 9\n",
    "b = '5'\n",
    "c = str(a) + b\n",
    "print (c)\n"
   ]
  },
  {
   "cell_type": "code",
   "execution_count": null,
   "metadata": {
    "collapsed": true
   },
   "outputs": [],
   "source": []
  }
 ],
 "metadata": {
  "kernelspec": {
   "display_name": "Python 3",
   "language": "python",
   "name": "python3"
  },
  "language_info": {
   "codemirror_mode": {
    "name": "ipython",
    "version": 3
   },
   "file_extension": ".py",
   "mimetype": "text/x-python",
   "name": "python",
   "nbconvert_exporter": "python",
   "pygments_lexer": "ipython3",
   "version": "3.6.0"
  }
 },
 "nbformat": 4,
 "nbformat_minor": 2
}
