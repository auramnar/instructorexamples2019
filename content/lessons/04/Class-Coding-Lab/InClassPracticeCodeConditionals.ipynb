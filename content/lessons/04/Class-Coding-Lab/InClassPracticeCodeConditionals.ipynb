{
 "cells": [
  {
   "cell_type": "markdown",
   "metadata": {
    "collapsed": false
   },
   "source": [
    "# If  - Else Statements"
   ]
  },
  {
   "cell_type": "code",
   "execution_count": null,
   "metadata": {
    "collapsed": false
   },
   "outputs": [],
   "source": [
    "price_younger = 4800  # Age less than 25\n",
    "price_older = 2200  # Age 25 and up\n",
    "\n",
    "age = int(input('Enter age:\\n'))\n",
    "\n",
    "if age < 25:\n",
    "    price = price_younger\n",
    "    \n",
    "else:\n",
    "    price = price_older\n",
    "    \n",
    "\n",
    "print('Annual price: $%d' % price)"
   ]
  },
  {
   "cell_type": "code",
   "execution_count": 3,
   "metadata": {
    "collapsed": false
   },
   "outputs": [
    {
     "name": "stdout",
     "output_type": "stream",
     "text": [
      "in high school\n"
     ]
    }
   ],
   "source": [
    "# Write an expression that will print \"in high school\" if the value of user_grade is between 9 and 12 (inclusive)\n",
    "\n",
    "user_grade = 10\n",
    "\n",
    "##Write expression here\n",
    "\n",
    "if 9 <= user_grade <= 12:\n",
    "    \n",
    "\n",
    "    print('in high school')\n",
    "else:\n",
    "    print('not in high school')\n",
    "    \n"
   ]
  },
  {
   "cell_type": "code",
   "execution_count": 4,
   "metadata": {
    "collapsed": false
   },
   "outputs": [
    {
     "name": "stdout",
     "output_type": "stream",
     "text": [
      "Enter age:\n",
      "25\n",
      "You are old enough to drive.\n",
      "You are old enough to vote.\n",
      "Most car rental companies will rent to you.\n"
     ]
    }
   ],
   "source": [
    "age = int(input('Enter age:\\n'))\n",
    "\n",
    "\n",
    "if age < 16:\n",
    "    print('You are too young to drive.')\n",
    "\n",
    "if age >= 16:\n",
    "    print('You are old enough to drive.')\n",
    "\n",
    "if age >= 18:\n",
    "    print('You are old enough to vote.')\n",
    "\n",
    "if age >= 25:\n",
    "    print('Most car rental companies will rent to you.')\n",
    "\n",
    "if age >= 35:\n",
    "    print('You can run for president.')"
   ]
  },
  {
   "cell_type": "code",
   "execution_count": null,
   "metadata": {
    "collapsed": false
   },
   "outputs": [],
   "source": [
    "# Nesting in if else statements\n",
    "\n",
    "age_younger_male = 4800    # Age 25 or younger\n",
    "age_younger_female = 4250\n",
    "age_older_male = 2200      # Age 26 or older\n",
    "age_older_female = 2100\n",
    "\n",
    "age = int(input('Enter age: '))\n",
    "gender = input(\"Enter gender ('m' or 'f'): \")\n",
    "price = 0\n",
    "\n",
    "if gender == 'm':\n",
    "    if age <= 25:\n",
    "        price = age_younger_male\n",
    "    else:\n",
    "        price = age_older_male\n",
    "elif gender == 'f':\n",
    "    if age <= 25:\n",
    "        price = age_younger_female\n",
    "    else:\n",
    "        price = age_older_female\n",
    "\n",
    "print('Annual car insurance cost: $%d' % price)"
   ]
  },
  {
   "cell_type": "markdown",
   "metadata": {},
   "source": [
    "Write a program that ask user for the year and outputs the value of a Chevy Camaro\n",
    "\n",
    "Year\tValue\n",
    "1966-1968\t$30,000\n",
    "1969-1971\t$52,000\n",
    "1972-1975\t$40,000\n",
    "1976-1980\t$20,000\n",
    "1981-1985\t$15,000\n",
    "1986-2012\t$30,000\n",
    "2013-2014\t$25,000"
   ]
  },
  {
   "cell_type": "code",
   "execution_count": 14,
   "metadata": {
    "collapsed": false
   },
   "outputs": [
    {
     "name": "stdout",
     "output_type": "stream",
     "text": [
      "what is the year of your Chevy Camaro:2000\n",
      "this is one of the years that all the car companies, car officials, car interns, etc took a break from making cars\n"
     ]
    }
   ],
   "source": [
    "year= int(input(\"what is the year of your Chevy Camaro:\"))\n",
    "\n",
    "if year >= 1966 and year <= 1967:\n",
    "    print(\"it belonged to NASCAR\")\n",
    "elif year >= 1969 and year <= 1971:\n",
    "    print (\"it belongs to mustang\")\n",
    "elif year >= 1972 and year <= 1975:\n",
    "    print (\"it belongs to maserati\")\n",
    "else:\n",
    "    print(\"this is one of the years that all the car companies, car officials, car interns, etc took a break from making cars\")\n",
    "    "
   ]
  },
  {
   "cell_type": "code",
   "execution_count": null,
   "metadata": {
    "collapsed": false
   },
   "outputs": [],
   "source": [
    "#Write an if-else statement with mulitiple branches.\n",
    "#If year is 2100 or greater, print \"Distant future\" (without quotes). \n",
    "# if year is 2000 or greater, print \"21st century\". \n",
    "# if year is 1900 or greater, print \"20th century\". \n",
    "# Else (1899 or earlier), print \"Long ago"
   ]
  },
  {
   "cell_type": "code",
   "execution_count": null,
   "metadata": {
    "collapsed": true
   },
   "outputs": [],
   "source": []
  },
  {
   "cell_type": "markdown",
   "metadata": {},
   "source": [
    "## Boolean Operators"
   ]
  },
  {
   "cell_type": "code",
   "execution_count": null,
   "metadata": {
    "collapsed": true
   },
   "outputs": [],
   "source": [
    "## Given age = 19, days = 7, user_char = 'q'\n",
    "\n",
    "## (age > 16) and (age < 25)\n",
    "\n",
    "## (age > 16) and (days > 10)\n",
    "\n",
    "## (age > 16) or (days > 10)\n",
    "\n",
    "## not (days > 10)\n",
    "\n",
    "## not (age > 16)\n",
    "\n",
    "## not (user_char == 'q')"
   ]
  },
  {
   "cell_type": "code",
   "execution_count": 17,
   "metadata": {
    "collapsed": false
   },
   "outputs": [
    {
     "name": "stdout",
     "output_type": "stream",
     "text": [
      "Special number\n"
     ]
    }
   ],
   "source": [
    "# Write an expression using Boolean operators that prints \"Special number\" if special_num is -99, 0, or 44.\n",
    "\n",
    "special_num = -99\n",
    "\n",
    "# Write expression here\n",
    "for special_num in [-99,0,44]:\n",
    "    print('Special number')\n",
    "    break\n",
    "else:\n",
    "    print('Not special number')"
   ]
  },
  {
   "cell_type": "markdown",
   "metadata": {},
   "source": [
    "## Membership Operators - in and not in"
   ]
  },
  {
   "cell_type": "markdown",
   "metadata": {},
   "source": [
    "A specific value can be found within a container, such as a list or dictionary"
   ]
  },
  {
   "cell_type": "code",
   "execution_count": null,
   "metadata": {
    "collapsed": true
   },
   "outputs": [],
   "source": [
    "barcelona_fc_roster = ['Rafinha', 'Messi', 'Santos']\n",
    "\n",
    "name = input('Enter name to check: ')\n",
    "\n",
    "if name in barcelona_fc_roster:\n",
    "    print('Found', name, 'on the roster.')\n",
    "else:\n",
    "    print('Could not find', name, 'on the roster.')"
   ]
  },
  {
   "cell_type": "code",
   "execution_count": null,
   "metadata": {
    "collapsed": false
   },
   "outputs": [],
   "source": [
    "request_str = 'GET index.html HTTP/1.1'\n",
    "\n",
    "if '/1.1' in request_str:\n",
    "    print('HTTP protocol 1.1')\n",
    "\n",
    "if 'HTTPS' not in request_str:\n",
    "    print('Unsecured connection')"
   ]
  },
  {
   "cell_type": "code",
   "execution_count": null,
   "metadata": {
    "collapsed": true
   },
   "outputs": [],
   "source": [
    "my_dict = {'A': 1, 'B': 2, 'C': 3}\n",
    "\n",
    "if 'B' in my_dict:\n",
    "    print(\"Found 'B'\")\n",
    "else:\n",
    "   print(\"'B' not found\")\n",
    "\n",
    "# Membership operator does not check values\n",
    "if 3 in my_dict:\n",
    "    print('Found 3')\n",
    "else:\n",
    "    print('3 not found')"
   ]
  },
  {
   "cell_type": "markdown",
   "metadata": {},
   "source": [
    "## Handling Errors - try ...except\n"
   ]
  },
  {
   "cell_type": "markdown",
   "metadata": {},
   "source": [
    "try:\n",
    "    # ... Normal code\n",
    "except exceptiontype1:\n",
    "    # ... Code to handle exceptiontype1\n",
    "except exceptiontype2:\n",
    "    # ... Code to handle exceptiontype2\n",
    "...\n",
    "except:\n",
    "    # ... Code to handle other exception types"
   ]
  }
 ],
 "metadata": {
  "kernelspec": {
   "display_name": "Python 3",
   "language": "python",
   "name": "python3"
  },
  "language_info": {
   "codemirror_mode": {
    "name": "ipython",
    "version": 3
   },
   "file_extension": ".py",
   "mimetype": "text/x-python",
   "name": "python",
   "nbconvert_exporter": "python",
   "pygments_lexer": "ipython3",
   "version": "3.6.0"
  }
 },
 "nbformat": 4,
 "nbformat_minor": 2
}
