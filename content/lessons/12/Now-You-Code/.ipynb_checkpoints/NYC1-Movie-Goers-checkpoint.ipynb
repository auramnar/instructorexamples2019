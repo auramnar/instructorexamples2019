{
 "cells": [
  {
   "cell_type": "markdown",
   "metadata": {},
   "source": [
    "# Now You Code 1: Data Analysis of Movie Goers\n",
    "\n",
    "In this assignment you will perform a data analysis of people who go to the movies. \n",
    "\n",
    "A movie theatre chain asked movie goers to fill out a quick survey in exchange for a 1/2 price ticket. The survey asked for basic demographics: age, gender, occupation and zip code. This survey results are contained in the data file `'NYC1-moviegoers.csv'`\n",
    "\n",
    "In this assignment you will write a series of Python pandas code (in several cells) to answer some basic questions about the responses in the dataset.\n"
   ]
  },
  {
   "cell_type": "code",
   "execution_count": 1,
   "metadata": {
    "collapsed": true
   },
   "outputs": [],
   "source": [
    "# this turns off warning messages\n",
    "import warnings\n",
    "warnings.filterwarnings('ignore')"
   ]
  },
  {
   "cell_type": "markdown",
   "metadata": {},
   "source": [
    "### Part 1: Load the dataset\n",
    "\n",
    "write code to import pandas and load the dataset (in csv format) into the variable `moviegoers` and then print a random sample of 5 people from the data set."
   ]
  },
  {
   "cell_type": "code",
   "execution_count": 2,
   "metadata": {},
   "outputs": [
    {
     "data": {
      "text/html": [
       "<div>\n",
       "<style scoped>\n",
       "    .dataframe tbody tr th:only-of-type {\n",
       "        vertical-align: middle;\n",
       "    }\n",
       "\n",
       "    .dataframe tbody tr th {\n",
       "        vertical-align: top;\n",
       "    }\n",
       "\n",
       "    .dataframe thead th {\n",
       "        text-align: right;\n",
       "    }\n",
       "</style>\n",
       "<table border=\"1\" class=\"dataframe\">\n",
       "  <thead>\n",
       "    <tr style=\"text-align: right;\">\n",
       "      <th></th>\n",
       "      <th>user_id</th>\n",
       "      <th>age</th>\n",
       "      <th>gender</th>\n",
       "      <th>occupation</th>\n",
       "      <th>zip_code</th>\n",
       "    </tr>\n",
       "  </thead>\n",
       "  <tbody>\n",
       "    <tr>\n",
       "      <th>856</th>\n",
       "      <td>857</td>\n",
       "      <td>35</td>\n",
       "      <td>F</td>\n",
       "      <td>administrator</td>\n",
       "      <td>V1G4L</td>\n",
       "    </tr>\n",
       "    <tr>\n",
       "      <th>289</th>\n",
       "      <td>290</td>\n",
       "      <td>40</td>\n",
       "      <td>M</td>\n",
       "      <td>engineer</td>\n",
       "      <td>93550</td>\n",
       "    </tr>\n",
       "    <tr>\n",
       "      <th>707</th>\n",
       "      <td>708</td>\n",
       "      <td>26</td>\n",
       "      <td>F</td>\n",
       "      <td>homemaker</td>\n",
       "      <td>96349</td>\n",
       "    </tr>\n",
       "    <tr>\n",
       "      <th>218</th>\n",
       "      <td>219</td>\n",
       "      <td>32</td>\n",
       "      <td>M</td>\n",
       "      <td>programmer</td>\n",
       "      <td>43212</td>\n",
       "    </tr>\n",
       "    <tr>\n",
       "      <th>899</th>\n",
       "      <td>900</td>\n",
       "      <td>60</td>\n",
       "      <td>M</td>\n",
       "      <td>retired</td>\n",
       "      <td>18505</td>\n",
       "    </tr>\n",
       "  </tbody>\n",
       "</table>\n",
       "</div>"
      ],
      "text/plain": [
       "     user_id  age gender     occupation zip_code\n",
       "856      857   35      F  administrator    V1G4L\n",
       "289      290   40      M       engineer    93550\n",
       "707      708   26      F      homemaker    96349\n",
       "218      219   32      M     programmer    43212\n",
       "899      900   60      M        retired    18505"
      ]
     },
     "execution_count": 2,
     "metadata": {},
     "output_type": "execute_result"
    }
   ],
   "source": [
    "import pandas as pd\n",
    "moviegoers = pd.read_csv('NYC1-moviegoers.csv')\n",
    "moviegoers.sample(5)"
   ]
  },
  {
   "cell_type": "markdown",
   "metadata": {},
   "source": [
    "### Part 2: Gender distribution \n",
    "\n",
    "How many males and females filled out our data set? \n",
    "\n",
    "Write a single line of Python Pandas code to count the genders in the data set. (There should be M = 670, F = 273)\n",
    "\n",
    "**HINT:** Select the `gender` column then use a built-in series method to count the values in the series."
   ]
  },
  {
   "cell_type": "code",
   "execution_count": 3,
   "metadata": {},
   "outputs": [
    {
     "data": {
      "text/plain": [
       "M    670\n",
       "F    273\n",
       "Name: gender, dtype: int64"
      ]
     },
     "execution_count": 3,
     "metadata": {},
     "output_type": "execute_result"
    }
   ],
   "source": [
    "moviegoers['gender'].value_counts()"
   ]
  },
  {
   "cell_type": "markdown",
   "metadata": {},
   "source": [
    "### Part 3: People without jobs\n",
    "\n",
    "Who are the survey respondents without jobs? \n",
    "\n",
    "Write Python Pandas code to create a variable `no_occupation` which filters the `moviegoers` data set to only those survey respondents with an ocupation of `'none'`.  (There should be 9 people)\n"
   ]
  },
  {
   "cell_type": "code",
   "execution_count": 4,
   "metadata": {},
   "outputs": [
    {
     "data": {
      "text/html": [
       "<div>\n",
       "<style scoped>\n",
       "    .dataframe tbody tr th:only-of-type {\n",
       "        vertical-align: middle;\n",
       "    }\n",
       "\n",
       "    .dataframe tbody tr th {\n",
       "        vertical-align: top;\n",
       "    }\n",
       "\n",
       "    .dataframe thead th {\n",
       "        text-align: right;\n",
       "    }\n",
       "</style>\n",
       "<table border=\"1\" class=\"dataframe\">\n",
       "  <thead>\n",
       "    <tr style=\"text-align: right;\">\n",
       "      <th></th>\n",
       "      <th>user_id</th>\n",
       "      <th>age</th>\n",
       "      <th>gender</th>\n",
       "      <th>occupation</th>\n",
       "      <th>zip_code</th>\n",
       "    </tr>\n",
       "  </thead>\n",
       "  <tbody>\n",
       "    <tr>\n",
       "      <th>56</th>\n",
       "      <td>57</td>\n",
       "      <td>16</td>\n",
       "      <td>M</td>\n",
       "      <td>none</td>\n",
       "      <td>84010</td>\n",
       "    </tr>\n",
       "    <tr>\n",
       "      <th>126</th>\n",
       "      <td>127</td>\n",
       "      <td>33</td>\n",
       "      <td>M</td>\n",
       "      <td>none</td>\n",
       "      <td>73439</td>\n",
       "    </tr>\n",
       "    <tr>\n",
       "      <th>129</th>\n",
       "      <td>130</td>\n",
       "      <td>20</td>\n",
       "      <td>M</td>\n",
       "      <td>none</td>\n",
       "      <td>60115</td>\n",
       "    </tr>\n",
       "    <tr>\n",
       "      <th>255</th>\n",
       "      <td>256</td>\n",
       "      <td>35</td>\n",
       "      <td>F</td>\n",
       "      <td>none</td>\n",
       "      <td>39042</td>\n",
       "    </tr>\n",
       "    <tr>\n",
       "      <th>288</th>\n",
       "      <td>289</td>\n",
       "      <td>11</td>\n",
       "      <td>M</td>\n",
       "      <td>none</td>\n",
       "      <td>94619</td>\n",
       "    </tr>\n",
       "    <tr>\n",
       "      <th>417</th>\n",
       "      <td>418</td>\n",
       "      <td>55</td>\n",
       "      <td>F</td>\n",
       "      <td>none</td>\n",
       "      <td>21206</td>\n",
       "    </tr>\n",
       "    <tr>\n",
       "      <th>627</th>\n",
       "      <td>628</td>\n",
       "      <td>13</td>\n",
       "      <td>M</td>\n",
       "      <td>none</td>\n",
       "      <td>94306</td>\n",
       "    </tr>\n",
       "    <tr>\n",
       "      <th>656</th>\n",
       "      <td>657</td>\n",
       "      <td>26</td>\n",
       "      <td>F</td>\n",
       "      <td>none</td>\n",
       "      <td>78704</td>\n",
       "    </tr>\n",
       "    <tr>\n",
       "      <th>755</th>\n",
       "      <td>756</td>\n",
       "      <td>30</td>\n",
       "      <td>F</td>\n",
       "      <td>none</td>\n",
       "      <td>90247</td>\n",
       "    </tr>\n",
       "  </tbody>\n",
       "</table>\n",
       "</div>"
      ],
      "text/plain": [
       "     user_id  age gender occupation zip_code\n",
       "56        57   16      M       none    84010\n",
       "126      127   33      M       none    73439\n",
       "129      130   20      M       none    60115\n",
       "255      256   35      F       none    39042\n",
       "288      289   11      M       none    94619\n",
       "417      418   55      F       none    21206\n",
       "627      628   13      M       none    94306\n",
       "656      657   26      F       none    78704\n",
       "755      756   30      F       none    90247"
      ]
     },
     "execution_count": 4,
     "metadata": {},
     "output_type": "execute_result"
    }
   ],
   "source": [
    "no_occupation = moviegoers[ moviegoers['occupation'] == 'none' ]\n",
    "no_occupation"
   ]
  },
  {
   "cell_type": "markdown",
   "metadata": {},
   "source": [
    "### Part 4: Gender distribution of people without jobs.\n",
    "\n",
    "What is the gender distribution of the 9 respondents without jobs? \n",
    "\n",
    "Write Python Pandas code to display this. \n",
    "\n",
    "**HINT:** Use the variable `no_occupation` from the previous step."
   ]
  },
  {
   "cell_type": "code",
   "execution_count": 5,
   "metadata": {},
   "outputs": [
    {
     "data": {
      "text/plain": [
       "M    5\n",
       "F    4\n",
       "Name: gender, dtype: int64"
      ]
     },
     "execution_count": 5,
     "metadata": {},
     "output_type": "execute_result"
    }
   ],
   "source": [
    "no_occupation['gender'].value_counts()"
   ]
  },
  {
   "cell_type": "markdown",
   "metadata": {},
   "source": [
    "### Part 5: Young Artists\n",
    "\n",
    "Write Python Pandas code to display the count of respondents with an occupation of artist who are 21 and under. (There should be 5)\n",
    "\n",
    "**HINT:** You can either set each Pandas filter to a new `DataFrame` variable or try to chain the filters together. Also display them before you try and count them."
   ]
  },
  {
   "cell_type": "code",
   "execution_count": 6,
   "metadata": {},
   "outputs": [
    {
     "data": {
      "text/plain": [
       "5"
      ]
     },
     "execution_count": 6,
     "metadata": {},
     "output_type": "execute_result"
    }
   ],
   "source": [
    "moviegoers[ (moviegoers['age'] <= 21) & (moviegoers['occupation'] == 'artist')]['user_id'].count()"
   ]
  },
  {
   "cell_type": "markdown",
   "metadata": {},
   "source": [
    "### Part 6: Distribution by age group\n",
    "\n",
    "The movie theater which conducted this survey prices their tickets by age group:\n",
    "\n",
    " - Youth (age 18 and under) $7.50 \n",
    " \n",
    " - Adult (age 19 55) $12.50 \n",
    " \n",
    " - Senior (age 56 and up) $8.50 \n",
    "\n",
    "Write python code to count the number of moviegoers in each of these age groups.\n",
    "\n",
    "Your counts should be as follows:\n",
    "```\n",
    "Adult     837\n",
    "Youth      54\n",
    "Senior     52\n",
    "```\n",
    "\n",
    "**HINT:** You must perform feature engineering. Create a new column `'age_group'` and use the `'age'` column to assign one or more values to the age group. After you create the column and set the values get a count of values for the `'age_group'` column.\n",
    "\n"
   ]
  },
  {
   "cell_type": "code",
   "execution_count": 7,
   "metadata": {},
   "outputs": [
    {
     "name": "stderr",
     "output_type": "stream",
     "text": [
      "C:\\Anaconda3\\lib\\site-packages\\ipykernel_launcher.py:2: SettingWithCopyWarning: \n",
      "A value is trying to be set on a copy of a slice from a DataFrame\n",
      "\n",
      "See the caveats in the documentation: http://pandas.pydata.org/pandas-docs/stable/indexing.html#indexing-view-versus-copy\n",
      "  \n",
      "C:\\Anaconda3\\lib\\site-packages\\ipykernel_launcher.py:3: SettingWithCopyWarning: \n",
      "A value is trying to be set on a copy of a slice from a DataFrame\n",
      "\n",
      "See the caveats in the documentation: http://pandas.pydata.org/pandas-docs/stable/indexing.html#indexing-view-versus-copy\n",
      "  This is separate from the ipykernel package so we can avoid doing imports until\n",
      "C:\\Anaconda3\\lib\\site-packages\\ipykernel_launcher.py:4: SettingWithCopyWarning: \n",
      "A value is trying to be set on a copy of a slice from a DataFrame\n",
      "\n",
      "See the caveats in the documentation: http://pandas.pydata.org/pandas-docs/stable/indexing.html#indexing-view-versus-copy\n",
      "  after removing the cwd from sys.path.\n"
     ]
    },
    {
     "data": {
      "text/plain": [
       "Adult     837\n",
       "Youth      54\n",
       "Senior     52\n",
       "Name: age_group, dtype: int64"
      ]
     },
     "execution_count": 7,
     "metadata": {},
     "output_type": "execute_result"
    }
   ],
   "source": [
    "moviegoers['age_group'] = ''\n",
    "moviegoers['age_group'][moviegoers['age'] <=18] = 'Youth'\n",
    "moviegoers['age_group'][(moviegoers['age'] >=19) & (moviegoers['age'] <=55)] = 'Adult'\n",
    "moviegoers['age_group'][moviegoers['age'] >=56] = 'Senior'\n",
    "moviegoers['age_group'].value_counts()"
   ]
  },
  {
   "cell_type": "markdown",
   "metadata": {},
   "source": [
    "## Step 7: Questions\n",
    "\n",
    "1. Pandas programs are different than typical Python programs. Explain the process by which you got the final solution?\n",
    "2. What was the most difficult aspect of this assignment? "
   ]
  },
  {
   "cell_type": "markdown",
   "metadata": {},
   "source": [
    "## Reminder of Evaluation Criteria\n",
    "\n",
    "1. What the problem attempted (analysis, code, and answered questions) ?\n",
    "2. What the problem analysis thought out? (does the program match the plan?)\n",
    "3. Does the code execute without syntax error?\n",
    "4. Does the code solve the intended problem?\n",
    "5. Is the code well written? (easy to understand, modular, and self-documenting, handles errors)"
   ]
  },
  {
   "cell_type": "code",
   "execution_count": null,
   "metadata": {},
   "outputs": [],
   "source": []
  }
 ],
 "metadata": {
  "anaconda-cloud": {},
  "kernelspec": {
   "display_name": "Python 3",
   "language": "python",
   "name": "python3"
  },
  "language_info": {
   "codemirror_mode": {
    "name": "ipython",
    "version": 3
   },
   "file_extension": ".py",
   "mimetype": "text/x-python",
   "name": "python",
   "nbconvert_exporter": "python",
   "pygments_lexer": "ipython3",
   "version": "3.6.5"
  }
 },
 "nbformat": 4,
 "nbformat_minor": 1
}
