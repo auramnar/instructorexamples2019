{
 "cells": [
  {
   "cell_type": "code",
   "execution_count": null,
   "metadata": {
    "collapsed": false
   },
   "outputs": [],
   "source": [
    "my_file = open('readme.txt') \n",
    "lines = my_file.readlines()\n",
    "print (lines [1])"
   ]
  },
  {
   "cell_type": "code",
   "execution_count": 1,
   "metadata": {
    "collapsed": false
   },
   "outputs": [
    {
     "name": "stdout",
     "output_type": "stream",
     "text": [
      "Lamborghini Veneno: 3900000 dollars\n",
      "Bugatti Veryon Super Sport: 2400000 dollars\n",
      "Aston Martin One-77: 1850000 dollars\n"
     ]
    }
   ],
   "source": [
    "# Some of the most expensive cars in the world\n",
    "lamborghini_veneno = 3900000  # $3.9 million!\n",
    "bugatti_veryon = 2400000      # $2.4 million!\n",
    "aston_martin_one77 = 1850000  # $1.85 million!\n",
    "\n",
    "prices = [lamborghini_veneno, bugatti_veryon, aston_martin_one77]\n",
    "\n",
    "print('Lamborghini Veneno:', prices[0], 'dollars')\n",
    "print('Bugatti Veryon Super Sport:', prices[1], 'dollars')\n",
    "print('Aston Martin One-77:', prices[2], 'dollars')"
   ]
  },
  {
   "cell_type": "code",
   "execution_count": null,
   "metadata": {
    "collapsed": false
   },
   "outputs": [],
   "source": [
    "#Lists are mutable\n",
    "\n",
    "my_nums = [5, 12, 20]\n",
    "print(my_nums)\n",
    "\n",
    "# Modify a list element\n",
    "my_nums[1] = -28\n",
    "print (my_nums)"
   ]
  },
  {
   "cell_type": "code",
   "execution_count": 2,
   "metadata": {
    "collapsed": false
   },
   "outputs": [
    {
     "name": "stdout",
     "output_type": "stream",
     "text": [
      "[34.62, 76.3, 85.05, 180.05, 90.75, 211.98]\n",
      "[76.3, 85.05, 180.05, 90.75, 211.98]\n",
      "[76.3, 85.05, 180.05, 90.75]\n",
      "[76.3, 85.05, 180.05, 90.75, 650.0]\n"
     ]
    }
   ],
   "source": [
    "# Apple (APPL) stock prices 2005-2010\n",
    "prices = [\n",
    "    34.62, 76.30, 85.05, \n",
    "    180.05, 90.75, 211.98 \n",
    "]\n",
    "print(prices)\n",
    "\n",
    " # Delete 2005 stock price\n",
    "prices.pop(0)\n",
    "print(prices)\n",
    "\n",
    "# Delete stock price value of 211.98\n",
    "prices.remove(211.98)\n",
    "print(prices)\n",
    "\n",
    " # Add a new stock price\n",
    "prices.append(650.00)\n",
    "print(prices)"
   ]
  },
  {
   "cell_type": "code",
   "execution_count": 4,
   "metadata": {
    "collapsed": false
   },
   "outputs": [
    {
     "name": "stdout",
     "output_type": "stream",
     "text": [
      "['$140,000', '$175,000', '$480,000']\n"
     ]
    }
   ],
   "source": [
    "# Update the price of the second item in house_prices to '$175,000'\n",
    "\n",
    "house_prices = ['$140,000', '$55,000', '$480,000']\n",
    "house_prices[1] = \"$175,000\"\n",
    "print (house_prices)\n"
   ]
  },
  {
   "cell_type": "code",
   "execution_count": 8,
   "metadata": {
    "collapsed": false
   },
   "outputs": [
    {
     "name": "stdout",
     "output_type": "stream",
     "text": [
      "9 students took the midterm.\n",
      "7 students took the final.\n",
      "There were 2 students who dropped the class\n",
      "Final scores ranged from the lowest 55.0 to the highest 100.0\n"
     ]
    },
    {
     "ename": "ValueError",
     "evalue": "incomplete format",
     "output_type": "error",
     "traceback": [
      "\u001b[0;31m---------------------------------------------------------------------------\u001b[0m",
      "\u001b[0;31mValueError\u001b[0m                                Traceback (most recent call last)",
      "\u001b[0;32m<ipython-input-8-e75cba741f63>\u001b[0m in \u001b[0;36m<module>\u001b[0;34m()\u001b[0m\n\u001b[1;32m     23\u001b[0m \u001b[1;31m#Calculate the average midterm scores\u001b[0m\u001b[1;33m\u001b[0m\u001b[1;33m\u001b[0m\u001b[0m\n\u001b[1;32m     24\u001b[0m \u001b[0maverage_midterm_score\u001b[0m \u001b[1;33m=\u001b[0m  \u001b[0msum\u001b[0m\u001b[1;33m(\u001b[0m\u001b[0mmidterm_scores\u001b[0m\u001b[1;33m)\u001b[0m \u001b[1;33m/\u001b[0m \u001b[0mnum_midterm_scores\u001b[0m\u001b[1;33m\u001b[0m\u001b[0m\n\u001b[0;32m---> 25\u001b[0;31m \u001b[0mprint\u001b[0m\u001b[1;33m(\u001b[0m\u001b[1;34m\"The average midterm score is %.2f%\"\u001b[0m \u001b[1;33m%\u001b[0m \u001b[1;33m(\u001b[0m\u001b[0maverage_midterm_score\u001b[0m\u001b[1;33m)\u001b[0m\u001b[1;33m)\u001b[0m\u001b[1;33m\u001b[0m\u001b[0m\n\u001b[0m",
      "\u001b[0;31mValueError\u001b[0m: incomplete format"
     ]
    }
   ],
   "source": [
    "midterm_scores = [99.5, 78.25, 76, 58.5, 100, 87.5, 91, 68, 100]\n",
    "final_scores = [55, 62, 100, 98.75, 80, 76.5, 85.25]\n",
    "\n",
    "#Combine the scores into a single list\n",
    "all_scores = midterm_scores + final_scores\n",
    "\n",
    "#Students who took the Midterm and Finals\n",
    "num_midterm_scores = len(midterm_scores)\n",
    "num_final_scores = len(final_scores)\n",
    "\n",
    "print(num_midterm_scores, 'students took the midterm.')\n",
    "print(num_final_scores, 'students took the final.')\n",
    "\n",
    "#Calculate the number of students that took the midterm but not the final\n",
    "dropped_students = num_midterm_scores - num_final_scores\n",
    "print('There were %d students who dropped the class' % (dropped_students))\n",
    "\n",
    "lowest_final = min(final_scores)\n",
    "highest_final = max(final_scores)\n",
    "\n",
    "print('Final scores ranged from the lowest %.1f to the highest %.1f' % (lowest_final, highest_final))\n",
    "\n",
    "#Calculate the average midterm scores\n",
    "average_midterm_score =  sum(midterm_scores) / num_midterm_scores\n",
    "print(\"The average midterm score is %.2f%\" % (average_midterm_score))\n"
   ]
  },
  {
   "cell_type": "code",
   "execution_count": 9,
   "metadata": {
    "collapsed": false
   },
   "outputs": [
    {
     "name": "stdout",
     "output_type": "stream",
     "text": [
      "[5, 8, 16]\n"
     ]
    }
   ],
   "source": [
    "my_list = [5, 8] \n",
    "my_list.append(16)\n",
    "\n",
    "print (my_list)"
   ]
  },
  {
   "cell_type": "code",
   "execution_count": 10,
   "metadata": {
    "collapsed": false
   },
   "outputs": [
    {
     "name": "stdout",
     "output_type": "stream",
     "text": [
      "Pitt Affleck Damon\n"
     ]
    }
   ],
   "source": [
    "actors = ['Pitt', 'Damon']\n",
    "actors.insert(1, 'Affleck')\n",
    "print(actors[0], actors[1], actors[2])"
   ]
  },
  {
   "cell_type": "code",
   "execution_count": null,
   "metadata": {
    "collapsed": true
   },
   "outputs": [],
   "source": [
    "# Write two statements that first sort my_list, then remove the largest value element from the list, using list methods"
   ]
  },
  {
   "cell_type": "code",
   "execution_count": null,
   "metadata": {
    "collapsed": true
   },
   "outputs": [],
   "source": [
    "Write a statement that counts the number of elements of my_list that have the value 15."
   ]
  },
  {
   "cell_type": "code",
   "execution_count": 35,
   "metadata": {
    "collapsed": false
   },
   "outputs": [
    {
     "ename": "AttributeError",
     "evalue": "'NoneType' object has no attribute 'reverse'",
     "output_type": "error",
     "traceback": [
      "\u001b[0;31m---------------------------------------------------------------------------\u001b[0m",
      "\u001b[0;31mAttributeError\u001b[0m                            Traceback (most recent call last)",
      "\u001b[0;32m<ipython-input-35-7f38a14101d7>\u001b[0m in \u001b[0;36m<module>\u001b[0;34m()\u001b[0m\n\u001b[1;32m      1\u001b[0m \u001b[1;31m# Sort short_names in reverse alphabetic order.\u001b[0m\u001b[1;33m\u001b[0m\u001b[1;33m\u001b[0m\u001b[0m\n\u001b[1;32m      2\u001b[0m \u001b[1;33m\u001b[0m\u001b[0m\n\u001b[0;32m----> 3\u001b[0;31m \u001b[0mshort_names\u001b[0m \u001b[1;33m=\u001b[0m \u001b[1;33m[\u001b[0m\u001b[1;34m'Jan'\u001b[0m\u001b[1;33m,\u001b[0m \u001b[1;34m'Sam'\u001b[0m\u001b[1;33m,\u001b[0m \u001b[1;34m'Ann'\u001b[0m\u001b[1;33m,\u001b[0m \u001b[1;34m'Joe'\u001b[0m\u001b[1;33m,\u001b[0m \u001b[1;34m'Tod'\u001b[0m\u001b[1;33m]\u001b[0m\u001b[1;33m.\u001b[0m\u001b[0msort\u001b[0m\u001b[1;33m(\u001b[0m\u001b[1;33m)\u001b[0m\u001b[1;33m.\u001b[0m\u001b[0mreverse\u001b[0m\u001b[1;33m(\u001b[0m\u001b[1;33m)\u001b[0m\u001b[1;33m\u001b[0m\u001b[0m\n\u001b[0m\u001b[1;32m      4\u001b[0m \u001b[1;33m\u001b[0m\u001b[0m\n\u001b[1;32m      5\u001b[0m \u001b[1;31m# What goes here\u001b[0m\u001b[1;33m\u001b[0m\u001b[1;33m\u001b[0m\u001b[0m\n",
      "\u001b[0;31mAttributeError\u001b[0m: 'NoneType' object has no attribute 'reverse'"
     ]
    }
   ],
   "source": [
    "# Sort short_names in reverse alphabetic order.\n",
    "\n",
    "short_names = ['Jan', 'Sam', 'Ann', 'Joe', 'Tod']\n",
    "\n",
    "# What goes here\n",
    "#dir(short_names)\n",
    "#help(short_names.sort)\n",
    "#short_names.sort()\n",
    "#short_names.reverse()\n",
    "print(short_names)\n",
    "\n",
    "\n"
   ]
  },
  {
   "cell_type": "raw",
   "metadata": {
    "collapsed": false
   },
   "source": [
    "origins = [4, 8, 10]\n",
    "\n",
    "for value in origins:\n",
    "    index = origins.index(value)  # Retrieve index of value in list\n",
    "    print('Element %d: %s' % (index, value))"
   ]
  },
  {
   "cell_type": "code",
   "execution_count": 36,
   "metadata": {
    "collapsed": false
   },
   "outputs": [
    {
     "name": "stdout",
     "output_type": "stream",
     "text": [
      "Element 0: 4\n",
      "Element 1: 8\n",
      "Element 2: 10\n"
     ]
    }
   ],
   "source": [
    "# enumerate() function retrieves both the index and corresponding element value at the same time\n",
    "\n",
    "origins = [4, 8, 10]\n",
    "\n",
    "for (index, value) in enumerate(origins):\n",
    "    print('Element %d: %s' % (index, value))"
   ]
  },
  {
   "cell_type": "code",
   "execution_count": null,
   "metadata": {
    "collapsed": true
   },
   "outputs": [],
   "source": []
  }
 ],
 "metadata": {
  "kernelspec": {
   "display_name": "Python 3",
   "language": "python",
   "name": "python3"
  },
  "language_info": {
   "codemirror_mode": {
    "name": "ipython",
    "version": 3
   },
   "file_extension": ".py",
   "mimetype": "text/x-python",
   "name": "python",
   "nbconvert_exporter": "python",
   "pygments_lexer": "ipython3",
   "version": "3.6.0"
  }
 },
 "nbformat": 4,
 "nbformat_minor": 2
}
